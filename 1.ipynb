{
 "cells": [
  {
   "cell_type": "code",
   "execution_count": 1,
   "metadata": {},
   "outputs": [
    {
     "name": "stderr",
     "output_type": "stream",
     "text": [
      "c:\\Users\\vsherathiya\\Downloads\\paddle\\venv\\lib\\site-packages\\setuptools\\sandbox.py:13: DeprecationWarning: pkg_resources is deprecated as an API. See https://setuptools.pypa.io/en/latest/pkg_resources.html\n",
      "  import pkg_resources\n",
      "c:\\Users\\vsherathiya\\Downloads\\paddle\\venv\\lib\\site-packages\\pkg_resources\\__init__.py:2871: DeprecationWarning: Deprecated call to `pkg_resources.declare_namespace('google')`.\n",
      "Implementing implicit namespace packages (as specified in PEP 420) is preferred to `pkg_resources.declare_namespace`. See https://setuptools.pypa.io/en/latest/references/keywords.html#keyword-namespace-packages\n",
      "  declare_namespace(pkg)\n",
      "c:\\Users\\vsherathiya\\Downloads\\paddle\\venv\\lib\\site-packages\\paddle\\fluid\\framework.py:298: UserWarning: You are using GPU version Paddle, but your CUDA device is not set properly. CPU device will be used by default.\n",
      "  warnings.warn(\n"
     ]
    }
   ],
   "source": [
    "from paddleocr import PaddleOCR, draw_ocr # main OCR dependencies\n",
    "from matplotlib import pyplot as plt # plot images\n",
    "import cv2 #opencv\n",
    "import os"
   ]
  },
  {
   "cell_type": "code",
   "execution_count": 3,
   "metadata": {},
   "outputs": [
    {
     "name": "stdout",
     "output_type": "stream",
     "text": [
      "[2023/10/05 16:18:46] ppocr DEBUG: Namespace(help='==SUPPRESS==', use_gpu=False, use_xpu=False, use_npu=False, ir_optim=True, use_tensorrt=False, min_subgraph_size=15, precision='fp32', gpu_mem=500, gpu_id=0, image_dir=None, page_num=0, det_algorithm='DB', det_model_dir='C:\\\\Users\\\\vsherathiya/.paddleocr/whl\\\\det\\\\en\\\\en_PP-OCRv3_det_infer', det_limit_side_len=960, det_limit_type='max', det_box_type='quad', det_db_thresh=0.3, det_db_box_thresh=0.6, det_db_unclip_ratio=1.5, max_batch_size=10, use_dilation=False, det_db_score_mode='fast', det_east_score_thresh=0.8, det_east_cover_thresh=0.1, det_east_nms_thresh=0.2, det_sast_score_thresh=0.5, det_sast_nms_thresh=0.2, det_pse_thresh=0, det_pse_box_thresh=0.85, det_pse_min_area=16, det_pse_scale=1, scales=[8, 16, 32], alpha=1.0, beta=1.0, fourier_degree=5, rec_algorithm='SVTR_LCNet', rec_model_dir='C:\\\\Users\\\\vsherathiya/.paddleocr/whl\\\\rec\\\\en\\\\en_PP-OCRv4_rec_infer', rec_image_inverse=True, rec_image_shape='3, 48, 320', rec_batch_num=6, max_text_length=25, rec_char_dict_path='c:\\\\Users\\\\vsherathiya\\\\Downloads\\\\paddle\\\\venv\\\\lib\\\\site-packages\\\\paddleocr\\\\ppocr\\\\utils\\\\en_dict.txt', use_space_char=True, vis_font_path='./doc/fonts/simfang.ttf', drop_score=0.5, e2e_algorithm='PGNet', e2e_model_dir=None, e2e_limit_side_len=768, e2e_limit_type='max', e2e_pgnet_score_thresh=0.5, e2e_char_dict_path='./ppocr/utils/ic15_dict.txt', e2e_pgnet_valid_set='totaltext', e2e_pgnet_mode='fast', use_angle_cls=False, cls_model_dir='C:\\\\Users\\\\vsherathiya/.paddleocr/whl\\\\cls\\\\ch_ppocr_mobile_v2.0_cls_infer', cls_image_shape='3, 48, 192', label_list=['0', '180'], cls_batch_num=6, cls_thresh=0.9, enable_mkldnn=False, cpu_threads=10, use_pdserving=False, warmup=False, sr_model_dir=None, sr_image_shape='3, 32, 128', sr_batch_num=1, draw_img_save_dir='./inference_results', save_crop_res=False, crop_res_save_dir='./output', use_mp=False, total_process_num=1, process_id=0, benchmark=False, save_log_path='./log_output/', show_log=True, use_onnx=False, output='./output', table_max_len=488, table_algorithm='TableAttn', table_model_dir=None, merge_no_span_structure=True, table_char_dict_path=None, layout_model_dir=None, layout_dict_path=None, layout_score_threshold=0.5, layout_nms_threshold=0.5, kie_algorithm='LayoutXLM', ser_model_dir=None, re_model_dir=None, use_visual_backbone=True, ser_dict_path='../train_data/XFUND/class_list_xfun.txt', ocr_order_method=None, mode='structure', image_orientation=False, layout=True, table=True, ocr=True, recovery=False, use_pdf2docx_api=False, invert=False, binarize=False, alphacolor=(255, 255, 255), lang='en', det=True, rec=True, type='ocr', ocr_version='PP-OCRv4', structure_version='PP-StructureV2')\n"
     ]
    }
   ],
   "source": [
    "# Setup model\n",
    "ocr_model = PaddleOCR(lang='en',use_gpu =False)"
   ]
  },
  {
   "cell_type": "code",
   "execution_count": 4,
   "metadata": {},
   "outputs": [],
   "source": [
    "img_path = r'D:\\Data\\3-bhk-1498-sq-ft.jpg'"
   ]
  },
  {
   "cell_type": "code",
   "execution_count": 5,
   "metadata": {},
   "outputs": [
    {
     "name": "stdout",
     "output_type": "stream",
     "text": [
      "[2023/10/05 16:19:22] ppocr WARNING: Since the angle classifier is not initialized, it will not be used during the forward process\n",
      "[2023/10/05 16:19:23] ppocr DEBUG: dt_boxes num : 44, elapsed : 0.7916469573974609\n",
      "[2023/10/05 16:19:31] ppocr DEBUG: rec_res num  : 44, elapsed : 7.687351703643799\n"
     ]
    }
   ],
   "source": [
    "\n",
    "# Run the ocr method on the ocr model\n",
    "result = ocr_model.ocr(img_path)"
   ]
  },
  {
   "cell_type": "code",
   "execution_count": null,
   "metadata": {},
   "outputs": [],
   "source": []
  },
  {
   "cell_type": "code",
   "execution_count": null,
   "metadata": {},
   "outputs": [],
   "source": []
  },
  {
   "cell_type": "code",
   "execution_count": 26,
   "metadata": {},
   "outputs": [
    {
     "data": {
      "text/plain": [
       "44"
      ]
     },
     "execution_count": 26,
     "metadata": {},
     "output_type": "execute_result"
    }
   ],
   "source": [
    "len(result[0])"
   ]
  },
  {
   "cell_type": "code",
   "execution_count": 27,
   "metadata": {},
   "outputs": [
    {
     "name": "stdout",
     "output_type": "stream",
     "text": [
      "FLOOR PLANS\n",
      "TYPE B3\n",
      "3BHK\n",
      "SBA-1498SFT\n",
      "BALCONY\n",
      "CARPETAREA - 1001 SFT\n",
      "3350x1410\n",
      "BATHROOM02\n",
      "BEDROOM 02\n",
      "BEDROOM03\n",
      "11-0x4-8\n",
      "1450x2600\n",
      "3350x3450\n",
      "3130x3450\n",
      "4'-9x8-6\n",
      "11'-0x11-4\n",
      "10'-3'11'-4\n",
      "LIVING\n",
      "3350x5200\n",
      "11'-0x17'-1\n",
      "DINING\n",
      "BEDROOM01\n",
      "2660x3200\n",
      "3350x3960\n",
      "8'-9x10-6\n",
      "11-0x13-0\n",
      "BATHROOM01\n",
      "BATHROOM 03\n",
      "1550x2600\n",
      "14502600\n",
      "FOYER\n",
      "5'-18-6\n",
      "4'-9x8-6\n",
      "13001390\n",
      "NTR\n",
      "4-3x4-7\n",
      "UTILITY\n",
      "KITCHEN\n",
      "1500x1740\n",
      "2700x2500\n",
      "4'-11x5-9\n",
      "8'-10x8-2\n",
      "WING 4\n",
      "1 SERIES\n"
     ]
    }
   ],
   "source": [
    "for i in range(len(result[0])):\n",
    "    print(result[0][i][1][0])"
   ]
  },
  {
   "cell_type": "code",
   "execution_count": 28,
   "metadata": {},
   "outputs": [],
   "source": [
    "# Extracting detected components\n",
    "boxes = [res[0] for res in result] # \n",
    "texts = [res[1][0] for res in result]\n",
    "scores = [res[1][1] for res in result]"
   ]
  },
  {
   "cell_type": "code",
   "execution_count": 29,
   "metadata": {},
   "outputs": [],
   "source": [
    "font_path = os.path.join('PaddleOCR', 'doc', 'fonts', 'latin.ttf')"
   ]
  },
  {
   "cell_type": "code",
   "execution_count": 30,
   "metadata": {},
   "outputs": [],
   "source": [
    "# Import our image - drug 1/2/3\n",
    "# imports image\n",
    "img = cv2.imread(img_path) \n",
    "\n",
    "# reorders the color channels\n",
    "img = cv2.cvtColor(img, cv2.COLOR_BGR2RGB) "
   ]
  },
  {
   "cell_type": "code",
   "execution_count": 34,
   "metadata": {},
   "outputs": [
    {
     "ename": "TypeError",
     "evalue": "'<' not supported between instances of 'tuple' and 'float'",
     "output_type": "error",
     "traceback": [
      "\u001b[1;31m---------------------------------------------------------------------------\u001b[0m",
      "\u001b[1;31mTypeError\u001b[0m                                 Traceback (most recent call last)",
      "\u001b[1;32mc:\\Users\\vsherathiya\\Downloads\\paddle\\1.ipynb Cell 12\u001b[0m line \u001b[0;36m6\n\u001b[0;32m      <a href='vscode-notebook-cell:/c%3A/Users/vsherathiya/Downloads/paddle/1.ipynb#X14sZmlsZQ%3D%3D?line=2'>3</a>\u001b[0m plt\u001b[39m.\u001b[39mfigure(figsize\u001b[39m=\u001b[39m(\u001b[39m15\u001b[39m, \u001b[39m15\u001b[39m))\n\u001b[0;32m      <a href='vscode-notebook-cell:/c%3A/Users/vsherathiya/Downloads/paddle/1.ipynb#X14sZmlsZQ%3D%3D?line=4'>5</a>\u001b[0m \u001b[39m# Draw annotations on the image\u001b[39;00m\n\u001b[1;32m----> <a href='vscode-notebook-cell:/c%3A/Users/vsherathiya/Downloads/paddle/1.ipynb#X14sZmlsZQ%3D%3D?line=5'>6</a>\u001b[0m annotated \u001b[39m=\u001b[39m draw_ocr(img_path, boxes, texts, scores, drop_score\u001b[39m=\u001b[39;49mdrop_score)\n\u001b[0;32m      <a href='vscode-notebook-cell:/c%3A/Users/vsherathiya/Downloads/paddle/1.ipynb#X14sZmlsZQ%3D%3D?line=7'>8</a>\u001b[0m \u001b[39m# Show the image using matplotlib\u001b[39;00m\n\u001b[0;32m      <a href='vscode-notebook-cell:/c%3A/Users/vsherathiya/Downloads/paddle/1.ipynb#X14sZmlsZQ%3D%3D?line=8'>9</a>\u001b[0m plt\u001b[39m.\u001b[39mimshow(annotated)\n",
      "File \u001b[1;32mc:\\Users\\vsherathiya\\Downloads\\paddle\\venv\\lib\\site-packages\\paddleocr\\tools\\infer\\utility.py:387\u001b[0m, in \u001b[0;36mdraw_ocr\u001b[1;34m(image, boxes, txts, scores, drop_score, font_path)\u001b[0m\n\u001b[0;32m    385\u001b[0m box_num \u001b[39m=\u001b[39m \u001b[39mlen\u001b[39m(boxes)\n\u001b[0;32m    386\u001b[0m \u001b[39mfor\u001b[39;00m i \u001b[39min\u001b[39;00m \u001b[39mrange\u001b[39m(box_num):\n\u001b[1;32m--> 387\u001b[0m     \u001b[39mif\u001b[39;00m scores \u001b[39mis\u001b[39;00m \u001b[39mnot\u001b[39;00m \u001b[39mNone\u001b[39;00m \u001b[39mand\u001b[39;00m (scores[i] \u001b[39m<\u001b[39;49m drop_score \u001b[39mor\u001b[39;00m\n\u001b[0;32m    388\u001b[0m                                math\u001b[39m.\u001b[39misnan(scores[i])):\n\u001b[0;32m    389\u001b[0m         \u001b[39mcontinue\u001b[39;00m\n\u001b[0;32m    390\u001b[0m     box \u001b[39m=\u001b[39m np\u001b[39m.\u001b[39mreshape(np\u001b[39m.\u001b[39marray(boxes[i]), [\u001b[39m-\u001b[39m\u001b[39m1\u001b[39m, \u001b[39m1\u001b[39m, \u001b[39m2\u001b[39m])\u001b[39m.\u001b[39mastype(np\u001b[39m.\u001b[39mint64)\n",
      "\u001b[1;31mTypeError\u001b[0m: '<' not supported between instances of 'tuple' and 'float'"
     ]
    },
    {
     "data": {
      "text/plain": [
       "<Figure size 1500x1500 with 0 Axes>"
      ]
     },
     "metadata": {},
     "output_type": "display_data"
    }
   ],
   "source": [
    "# Visualize our image and detections\n",
    "# resizing display area\n",
    "plt.figure(figsize=(15,15))\n",
    "\n",
    "# draw annotations on image\n",
    "annotated = draw_ocr(img, boxes, texts, scores, font_path=font_path) \n",
    "\n",
    "# show the image using matplotlib\n",
    "plt.imshow(annotated) "
   ]
  },
  {
   "cell_type": "code",
   "execution_count": null,
   "metadata": {},
   "outputs": [],
   "source": []
  }
 ],
 "metadata": {
  "kernelspec": {
   "display_name": "Python 3",
   "language": "python",
   "name": "python3"
  },
  "language_info": {
   "codemirror_mode": {
    "name": "ipython",
    "version": 3
   },
   "file_extension": ".py",
   "mimetype": "text/x-python",
   "name": "python",
   "nbconvert_exporter": "python",
   "pygments_lexer": "ipython3",
   "version": "3.9.18"
  }
 },
 "nbformat": 4,
 "nbformat_minor": 2
}
